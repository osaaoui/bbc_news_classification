{
 "cells": [
  {
   "cell_type": "code",
   "execution_count": 1,
   "id": "333b11de",
   "metadata": {},
   "outputs": [],
   "source": [
    "# imports des libraries nécessaires à la lecture et visualisation des données\n",
    "import numpy as np\n",
    "import pandas as pd\n",
    "import matplotlib.pyplot as plt\n",
    "import seaborn as sns\n",
    "\n",
    "# imports des librairies de pré-traitement\n",
    "from sklearn.preprocessing import LabelEncoder\n",
    "\n",
    "# imports des différents modèles\n",
    "from sklearn.model_selection import train_test_split\n",
    "from sklearn.naive_bayes import GaussianNB\n",
    "from sklearn.tree import DecisionTreeClassifier\n",
    "\n",
    "#imports des métriques\n",
    "from sklearn import metrics\n",
    "from sklearn.metrics import classification_report,confusion_matrix,plot_confusion_matrix, accuracy_score\n"
   ]
  },
  {
   "cell_type": "markdown",
   "id": "f64b170c",
   "metadata": {},
   "source": [
    "## 1. Lecture et affichage"
   ]
  },
  {
   "cell_type": "code",
   "execution_count": 2,
   "id": "bdcc82da",
   "metadata": {},
   "outputs": [],
   "source": [
    "#Lecture du Dataset\n",
    "df=pd.read_csv(\"train_users_2.csv\")"
   ]
  },
  {
   "cell_type": "code",
   "execution_count": 3,
   "id": "ae6a3a31",
   "metadata": {},
   "outputs": [
    {
     "data": {
      "text/html": [
       "<div>\n",
       "<style scoped>\n",
       "    .dataframe tbody tr th:only-of-type {\n",
       "        vertical-align: middle;\n",
       "    }\n",
       "\n",
       "    .dataframe tbody tr th {\n",
       "        vertical-align: top;\n",
       "    }\n",
       "\n",
       "    .dataframe thead th {\n",
       "        text-align: right;\n",
       "    }\n",
       "</style>\n",
       "<table border=\"1\" class=\"dataframe\">\n",
       "  <thead>\n",
       "    <tr style=\"text-align: right;\">\n",
       "      <th></th>\n",
       "      <th>id</th>\n",
       "      <th>date_account_created</th>\n",
       "      <th>timestamp_first_active</th>\n",
       "      <th>date_first_booking</th>\n",
       "      <th>gender</th>\n",
       "      <th>age</th>\n",
       "      <th>signup_method</th>\n",
       "      <th>signup_flow</th>\n",
       "      <th>language</th>\n",
       "      <th>affiliate_channel</th>\n",
       "      <th>affiliate_provider</th>\n",
       "      <th>first_affiliate_tracked</th>\n",
       "      <th>signup_app</th>\n",
       "      <th>first_device_type</th>\n",
       "      <th>first_browser</th>\n",
       "      <th>country_destination</th>\n",
       "    </tr>\n",
       "  </thead>\n",
       "  <tbody>\n",
       "    <tr>\n",
       "      <th>0</th>\n",
       "      <td>gxn3p5htnn</td>\n",
       "      <td>2010-06-28</td>\n",
       "      <td>20090319043255</td>\n",
       "      <td>NaN</td>\n",
       "      <td>-unknown-</td>\n",
       "      <td>NaN</td>\n",
       "      <td>facebook</td>\n",
       "      <td>0</td>\n",
       "      <td>en</td>\n",
       "      <td>direct</td>\n",
       "      <td>direct</td>\n",
       "      <td>untracked</td>\n",
       "      <td>Web</td>\n",
       "      <td>Mac Desktop</td>\n",
       "      <td>Chrome</td>\n",
       "      <td>NDF</td>\n",
       "    </tr>\n",
       "    <tr>\n",
       "      <th>1</th>\n",
       "      <td>820tgsjxq7</td>\n",
       "      <td>2011-05-25</td>\n",
       "      <td>20090523174809</td>\n",
       "      <td>NaN</td>\n",
       "      <td>MALE</td>\n",
       "      <td>38.0</td>\n",
       "      <td>facebook</td>\n",
       "      <td>0</td>\n",
       "      <td>en</td>\n",
       "      <td>seo</td>\n",
       "      <td>google</td>\n",
       "      <td>untracked</td>\n",
       "      <td>Web</td>\n",
       "      <td>Mac Desktop</td>\n",
       "      <td>Chrome</td>\n",
       "      <td>NDF</td>\n",
       "    </tr>\n",
       "    <tr>\n",
       "      <th>2</th>\n",
       "      <td>4ft3gnwmtx</td>\n",
       "      <td>2010-09-28</td>\n",
       "      <td>20090609231247</td>\n",
       "      <td>2010-08-02</td>\n",
       "      <td>FEMALE</td>\n",
       "      <td>56.0</td>\n",
       "      <td>basic</td>\n",
       "      <td>3</td>\n",
       "      <td>en</td>\n",
       "      <td>direct</td>\n",
       "      <td>direct</td>\n",
       "      <td>untracked</td>\n",
       "      <td>Web</td>\n",
       "      <td>Windows Desktop</td>\n",
       "      <td>IE</td>\n",
       "      <td>US</td>\n",
       "    </tr>\n",
       "    <tr>\n",
       "      <th>3</th>\n",
       "      <td>bjjt8pjhuk</td>\n",
       "      <td>2011-12-05</td>\n",
       "      <td>20091031060129</td>\n",
       "      <td>2012-09-08</td>\n",
       "      <td>FEMALE</td>\n",
       "      <td>42.0</td>\n",
       "      <td>facebook</td>\n",
       "      <td>0</td>\n",
       "      <td>en</td>\n",
       "      <td>direct</td>\n",
       "      <td>direct</td>\n",
       "      <td>untracked</td>\n",
       "      <td>Web</td>\n",
       "      <td>Mac Desktop</td>\n",
       "      <td>Firefox</td>\n",
       "      <td>other</td>\n",
       "    </tr>\n",
       "    <tr>\n",
       "      <th>4</th>\n",
       "      <td>87mebub9p4</td>\n",
       "      <td>2010-09-14</td>\n",
       "      <td>20091208061105</td>\n",
       "      <td>2010-02-18</td>\n",
       "      <td>-unknown-</td>\n",
       "      <td>41.0</td>\n",
       "      <td>basic</td>\n",
       "      <td>0</td>\n",
       "      <td>en</td>\n",
       "      <td>direct</td>\n",
       "      <td>direct</td>\n",
       "      <td>untracked</td>\n",
       "      <td>Web</td>\n",
       "      <td>Mac Desktop</td>\n",
       "      <td>Chrome</td>\n",
       "      <td>US</td>\n",
       "    </tr>\n",
       "  </tbody>\n",
       "</table>\n",
       "</div>"
      ],
      "text/plain": [
       "           id date_account_created  timestamp_first_active date_first_booking  \\\n",
       "0  gxn3p5htnn           2010-06-28          20090319043255                NaN   \n",
       "1  820tgsjxq7           2011-05-25          20090523174809                NaN   \n",
       "2  4ft3gnwmtx           2010-09-28          20090609231247         2010-08-02   \n",
       "3  bjjt8pjhuk           2011-12-05          20091031060129         2012-09-08   \n",
       "4  87mebub9p4           2010-09-14          20091208061105         2010-02-18   \n",
       "\n",
       "      gender   age signup_method  signup_flow language affiliate_channel  \\\n",
       "0  -unknown-   NaN      facebook            0       en            direct   \n",
       "1       MALE  38.0      facebook            0       en               seo   \n",
       "2     FEMALE  56.0         basic            3       en            direct   \n",
       "3     FEMALE  42.0      facebook            0       en            direct   \n",
       "4  -unknown-  41.0         basic            0       en            direct   \n",
       "\n",
       "  affiliate_provider first_affiliate_tracked signup_app first_device_type  \\\n",
       "0             direct               untracked        Web       Mac Desktop   \n",
       "1             google               untracked        Web       Mac Desktop   \n",
       "2             direct               untracked        Web   Windows Desktop   \n",
       "3             direct               untracked        Web       Mac Desktop   \n",
       "4             direct               untracked        Web       Mac Desktop   \n",
       "\n",
       "  first_browser country_destination  \n",
       "0        Chrome                 NDF  \n",
       "1        Chrome                 NDF  \n",
       "2            IE                  US  \n",
       "3       Firefox               other  \n",
       "4        Chrome                  US  "
      ]
     },
     "execution_count": 3,
     "metadata": {},
     "output_type": "execute_result"
    }
   ],
   "source": [
    "#affichage\n",
    "df.head()"
   ]
  },
  {
   "cell_type": "markdown",
   "id": "a6db46f2",
   "metadata": {},
   "source": [
    "## 2. Exploration des données: EDA"
   ]
  },
  {
   "cell_type": "code",
   "execution_count": 4,
   "id": "d5481960",
   "metadata": {},
   "outputs": [
    {
     "name": "stdout",
     "output_type": "stream",
     "text": [
      "==============================================\n",
      "Le dataset contient 213451 lignes et 16 variables\n",
      "\n",
      "\n",
      "Sur les 16 variables, 3 sont quantitatives ['timestamp_first_active', 'age', 'signup_flow'] et 13 sont qualitatives ['id', 'date_account_created', 'date_first_booking', 'gender', 'signup_method', 'language', 'affiliate_channel', 'affiliate_provider', 'first_affiliate_tracked', 'signup_app', 'first_device_type', 'first_browser', 'country_destination']\n",
      "==============================================\n"
     ]
    }
   ],
   "source": [
    "def exploration(df):\n",
    "    qnt=0\n",
    "    quant=[]\n",
    "    qlt=0\n",
    "    qualt=[]\n",
    "    print(\"==============================================\")\n",
    "    print(\"Le dataset contient {} lignes et {} variables\".format(df.shape[0], df.shape[1]))\n",
    "    for col in df.columns:\n",
    "        if df[col].dtype == 'object':\n",
    "            qlt += 1\n",
    "            qualt.append(col)\n",
    "            #print(\"{}\".format (col))\n",
    "        else:\n",
    "            qnt += 1\n",
    "            quant.append(col)\n",
    "            #print(\"{}\".format (col))\n",
    "    print(\"\\n\")\n",
    "    print(\"Sur les 16 variables, {} sont quantitatives {} et {} sont qualitatives {}\".format(qnt,quant, qlt, qualt))\n",
    "    print(\"==============================================\")\n",
    "exploration(df)"
   ]
  },
  {
   "cell_type": "raw",
   "id": "c4796ac2",
   "metadata": {},
   "source": [
    "Parmi les valeurs qualitatives, on peut distinguer 2 groupes:\n",
    "- Les dates\n",
    "- les variables qualitatives nominales, comme \"gender\", \"language\", etc"
   ]
  },
  {
   "cell_type": "markdown",
   "id": "dd6874a7",
   "metadata": {},
   "source": [
    "### 2.1. Statistiques de base:"
   ]
  },
  {
   "cell_type": "code",
   "execution_count": 5,
   "id": "134d0fe4",
   "metadata": {},
   "outputs": [
    {
     "data": {
      "text/html": [
       "<div>\n",
       "<style scoped>\n",
       "    .dataframe tbody tr th:only-of-type {\n",
       "        vertical-align: middle;\n",
       "    }\n",
       "\n",
       "    .dataframe tbody tr th {\n",
       "        vertical-align: top;\n",
       "    }\n",
       "\n",
       "    .dataframe thead th {\n",
       "        text-align: right;\n",
       "    }\n",
       "</style>\n",
       "<table border=\"1\" class=\"dataframe\">\n",
       "  <thead>\n",
       "    <tr style=\"text-align: right;\">\n",
       "      <th></th>\n",
       "      <th>timestamp_first_active</th>\n",
       "      <th>age</th>\n",
       "      <th>signup_flow</th>\n",
       "    </tr>\n",
       "  </thead>\n",
       "  <tbody>\n",
       "    <tr>\n",
       "      <th>count</th>\n",
       "      <td>2.134510e+05</td>\n",
       "      <td>125461.000000</td>\n",
       "      <td>213451.000000</td>\n",
       "    </tr>\n",
       "    <tr>\n",
       "      <th>mean</th>\n",
       "      <td>2.013085e+13</td>\n",
       "      <td>49.668335</td>\n",
       "      <td>3.267387</td>\n",
       "    </tr>\n",
       "    <tr>\n",
       "      <th>std</th>\n",
       "      <td>9.253717e+09</td>\n",
       "      <td>155.666612</td>\n",
       "      <td>7.637707</td>\n",
       "    </tr>\n",
       "    <tr>\n",
       "      <th>min</th>\n",
       "      <td>2.009032e+13</td>\n",
       "      <td>1.000000</td>\n",
       "      <td>0.000000</td>\n",
       "    </tr>\n",
       "    <tr>\n",
       "      <th>25%</th>\n",
       "      <td>2.012123e+13</td>\n",
       "      <td>28.000000</td>\n",
       "      <td>0.000000</td>\n",
       "    </tr>\n",
       "    <tr>\n",
       "      <th>50%</th>\n",
       "      <td>2.013091e+13</td>\n",
       "      <td>34.000000</td>\n",
       "      <td>0.000000</td>\n",
       "    </tr>\n",
       "    <tr>\n",
       "      <th>75%</th>\n",
       "      <td>2.014031e+13</td>\n",
       "      <td>43.000000</td>\n",
       "      <td>0.000000</td>\n",
       "    </tr>\n",
       "    <tr>\n",
       "      <th>max</th>\n",
       "      <td>2.014063e+13</td>\n",
       "      <td>2014.000000</td>\n",
       "      <td>25.000000</td>\n",
       "    </tr>\n",
       "  </tbody>\n",
       "</table>\n",
       "</div>"
      ],
      "text/plain": [
       "       timestamp_first_active            age    signup_flow\n",
       "count            2.134510e+05  125461.000000  213451.000000\n",
       "mean             2.013085e+13      49.668335       3.267387\n",
       "std              9.253717e+09     155.666612       7.637707\n",
       "min              2.009032e+13       1.000000       0.000000\n",
       "25%              2.012123e+13      28.000000       0.000000\n",
       "50%              2.013091e+13      34.000000       0.000000\n",
       "75%              2.014031e+13      43.000000       0.000000\n",
       "max              2.014063e+13    2014.000000      25.000000"
      ]
     },
     "execution_count": 5,
     "metadata": {},
     "output_type": "execute_result"
    }
   ],
   "source": [
    "# variabls quantitatives\n",
    "df.describe()"
   ]
  },
  {
   "cell_type": "code",
   "execution_count": 6,
   "id": "87281deb",
   "metadata": {},
   "outputs": [
    {
     "data": {
      "text/html": [
       "<div>\n",
       "<style scoped>\n",
       "    .dataframe tbody tr th:only-of-type {\n",
       "        vertical-align: middle;\n",
       "    }\n",
       "\n",
       "    .dataframe tbody tr th {\n",
       "        vertical-align: top;\n",
       "    }\n",
       "\n",
       "    .dataframe thead th {\n",
       "        text-align: right;\n",
       "    }\n",
       "</style>\n",
       "<table border=\"1\" class=\"dataframe\">\n",
       "  <thead>\n",
       "    <tr style=\"text-align: right;\">\n",
       "      <th></th>\n",
       "      <th>count</th>\n",
       "      <th>unique</th>\n",
       "      <th>top</th>\n",
       "      <th>freq</th>\n",
       "    </tr>\n",
       "  </thead>\n",
       "  <tbody>\n",
       "    <tr>\n",
       "      <th>id</th>\n",
       "      <td>213451</td>\n",
       "      <td>213451</td>\n",
       "      <td>6gp7n9e16w</td>\n",
       "      <td>1</td>\n",
       "    </tr>\n",
       "    <tr>\n",
       "      <th>date_account_created</th>\n",
       "      <td>213451</td>\n",
       "      <td>1634</td>\n",
       "      <td>2014-05-13</td>\n",
       "      <td>674</td>\n",
       "    </tr>\n",
       "    <tr>\n",
       "      <th>date_first_booking</th>\n",
       "      <td>88908</td>\n",
       "      <td>1976</td>\n",
       "      <td>2014-05-22</td>\n",
       "      <td>248</td>\n",
       "    </tr>\n",
       "    <tr>\n",
       "      <th>gender</th>\n",
       "      <td>213451</td>\n",
       "      <td>4</td>\n",
       "      <td>-unknown-</td>\n",
       "      <td>95688</td>\n",
       "    </tr>\n",
       "    <tr>\n",
       "      <th>signup_method</th>\n",
       "      <td>213451</td>\n",
       "      <td>3</td>\n",
       "      <td>basic</td>\n",
       "      <td>152897</td>\n",
       "    </tr>\n",
       "    <tr>\n",
       "      <th>language</th>\n",
       "      <td>213451</td>\n",
       "      <td>25</td>\n",
       "      <td>en</td>\n",
       "      <td>206314</td>\n",
       "    </tr>\n",
       "    <tr>\n",
       "      <th>affiliate_channel</th>\n",
       "      <td>213451</td>\n",
       "      <td>8</td>\n",
       "      <td>direct</td>\n",
       "      <td>137727</td>\n",
       "    </tr>\n",
       "    <tr>\n",
       "      <th>affiliate_provider</th>\n",
       "      <td>213451</td>\n",
       "      <td>18</td>\n",
       "      <td>direct</td>\n",
       "      <td>137426</td>\n",
       "    </tr>\n",
       "    <tr>\n",
       "      <th>first_affiliate_tracked</th>\n",
       "      <td>207386</td>\n",
       "      <td>7</td>\n",
       "      <td>untracked</td>\n",
       "      <td>109232</td>\n",
       "    </tr>\n",
       "    <tr>\n",
       "      <th>signup_app</th>\n",
       "      <td>213451</td>\n",
       "      <td>4</td>\n",
       "      <td>Web</td>\n",
       "      <td>182717</td>\n",
       "    </tr>\n",
       "    <tr>\n",
       "      <th>first_device_type</th>\n",
       "      <td>213451</td>\n",
       "      <td>9</td>\n",
       "      <td>Mac Desktop</td>\n",
       "      <td>89600</td>\n",
       "    </tr>\n",
       "    <tr>\n",
       "      <th>first_browser</th>\n",
       "      <td>213451</td>\n",
       "      <td>52</td>\n",
       "      <td>Chrome</td>\n",
       "      <td>63845</td>\n",
       "    </tr>\n",
       "    <tr>\n",
       "      <th>country_destination</th>\n",
       "      <td>213451</td>\n",
       "      <td>12</td>\n",
       "      <td>NDF</td>\n",
       "      <td>124543</td>\n",
       "    </tr>\n",
       "  </tbody>\n",
       "</table>\n",
       "</div>"
      ],
      "text/plain": [
       "                          count  unique          top    freq\n",
       "id                       213451  213451   6gp7n9e16w       1\n",
       "date_account_created     213451    1634   2014-05-13     674\n",
       "date_first_booking        88908    1976   2014-05-22     248\n",
       "gender                   213451       4    -unknown-   95688\n",
       "signup_method            213451       3        basic  152897\n",
       "language                 213451      25           en  206314\n",
       "affiliate_channel        213451       8       direct  137727\n",
       "affiliate_provider       213451      18       direct  137426\n",
       "first_affiliate_tracked  207386       7    untracked  109232\n",
       "signup_app               213451       4          Web  182717\n",
       "first_device_type        213451       9  Mac Desktop   89600\n",
       "first_browser            213451      52       Chrome   63845\n",
       "country_destination      213451      12          NDF  124543"
      ]
     },
     "execution_count": 6,
     "metadata": {},
     "output_type": "execute_result"
    }
   ],
   "source": [
    "# Variables qualitatives\n",
    "df.describe(include='object').T"
   ]
  },
  {
   "cell_type": "code",
   "execution_count": 7,
   "id": "9d7e21ee",
   "metadata": {},
   "outputs": [
    {
     "name": "stdout",
     "output_type": "stream",
     "text": [
      "<class 'pandas.core.frame.DataFrame'>\n",
      "RangeIndex: 213451 entries, 0 to 213450\n",
      "Data columns (total 16 columns):\n",
      " #   Column                   Non-Null Count   Dtype  \n",
      "---  ------                   --------------   -----  \n",
      " 0   id                       213451 non-null  object \n",
      " 1   date_account_created     213451 non-null  object \n",
      " 2   timestamp_first_active   213451 non-null  int64  \n",
      " 3   date_first_booking       88908 non-null   object \n",
      " 4   gender                   213451 non-null  object \n",
      " 5   age                      125461 non-null  float64\n",
      " 6   signup_method            213451 non-null  object \n",
      " 7   signup_flow              213451 non-null  int64  \n",
      " 8   language                 213451 non-null  object \n",
      " 9   affiliate_channel        213451 non-null  object \n",
      " 10  affiliate_provider       213451 non-null  object \n",
      " 11  first_affiliate_tracked  207386 non-null  object \n",
      " 12  signup_app               213451 non-null  object \n",
      " 13  first_device_type        213451 non-null  object \n",
      " 14  first_browser            213451 non-null  object \n",
      " 15  country_destination      213451 non-null  object \n",
      "dtypes: float64(1), int64(2), object(13)\n",
      "memory usage: 26.1+ MB\n"
     ]
    }
   ],
   "source": [
    "# Quelles sont les descripteurs (colonnes) du dataset?\n",
    "df.info()"
   ]
  },
  {
   "cell_type": "code",
   "execution_count": 8,
   "id": "03e712ea",
   "metadata": {},
   "outputs": [
    {
     "data": {
      "text/plain": [
       "id                          object\n",
       "date_account_created        object\n",
       "timestamp_first_active       int64\n",
       "date_first_booking          object\n",
       "gender                      object\n",
       "age                        float64\n",
       "signup_method               object\n",
       "signup_flow                  int64\n",
       "language                    object\n",
       "affiliate_channel           object\n",
       "affiliate_provider          object\n",
       "first_affiliate_tracked     object\n",
       "signup_app                  object\n",
       "first_device_type           object\n",
       "first_browser               object\n",
       "country_destination         object\n",
       "dtype: object"
      ]
     },
     "execution_count": 8,
     "metadata": {},
     "output_type": "execute_result"
    }
   ],
   "source": [
    "#Type des variables:\n",
    "df.dtypes"
   ]
  },
  {
   "cell_type": "markdown",
   "id": "daaef4b4",
   "metadata": {},
   "source": [
    "### 2.2. Doublons:\n",
    "\n",
    "Il n'existe aucun enregistrement doublon dans le Dataset"
   ]
  },
  {
   "cell_type": "code",
   "execution_count": 9,
   "id": "60a6005b",
   "metadata": {},
   "outputs": [
    {
     "data": {
      "text/plain": [
       "0"
      ]
     },
     "execution_count": 9,
     "metadata": {},
     "output_type": "execute_result"
    }
   ],
   "source": [
    "df.duplicated().sum()"
   ]
  },
  {
   "cell_type": "markdown",
   "id": "05869c78",
   "metadata": {},
   "source": [
    "### 2.3. Valeurs manquantes:\n",
    "Trois variables ont des valeurs manquantes:\n",
    "- date_first_booking:  124543\n",
    "- age: 87990\n",
    "- first_affiliate_tracked: 6065\n",
    "\n",
    "Cependant, comme on va le montrer plus bas, il existe d'autres marqueurs d'absence tels que '-unknown-' qui affecte certaines variables."
   ]
  },
  {
   "cell_type": "code",
   "execution_count": 10,
   "id": "66e7e878",
   "metadata": {},
   "outputs": [
    {
     "data": {
      "text/plain": [
       "id                              0\n",
       "date_account_created            0\n",
       "timestamp_first_active          0\n",
       "date_first_booking         124543\n",
       "gender                          0\n",
       "age                         87990\n",
       "signup_method                   0\n",
       "signup_flow                     0\n",
       "language                        0\n",
       "affiliate_channel               0\n",
       "affiliate_provider              0\n",
       "first_affiliate_tracked      6065\n",
       "signup_app                      0\n",
       "first_device_type               0\n",
       "first_browser                   0\n",
       "country_destination             0\n",
       "dtype: int64"
      ]
     },
     "execution_count": 10,
     "metadata": {},
     "output_type": "execute_result"
    }
   ],
   "source": [
    "#Variables manquantes\n",
    "df.isna().sum()"
   ]
  },
  {
   "cell_type": "markdown",
   "id": "dfcc2924",
   "metadata": {},
   "source": [
    "### 2.4. Visualisations de la distribution des modalités:\n",
    "Dans ce qui suit, on va visualiser l'effectif de quelques modalités. A titre d'illustration,\n",
    "on va prendre les variables \"gender\", \"language\", \"country_destination\", le but étant de montrer la distribution inégale de certaines modalités."
   ]
  },
  {
   "cell_type": "code",
   "execution_count": 11,
   "id": "a4d5bd4a",
   "metadata": {},
   "outputs": [
    {
     "data": {
      "text/plain": [
       "array([<AxesSubplot:ylabel='gender'>], dtype=object)"
      ]
     },
     "execution_count": 11,
     "metadata": {},
     "output_type": "execute_result"
    },
    {
     "data": {
      "image/png": "[encoded data removed]",
      "text/plain": [
       "<Figure size 288x288 with 1 Axes>"
      ]
     },
     "metadata": {},
     "output_type": "display_data"
    }
   ],
   "source": [
    "# Calcul des effectifs des variables qualitatives\n",
    "gender= df.gender.value_counts()\n",
    "gender.plot.pie(subplots=True, figsize = (4, 4), autopct='%.2f')"
   ]
  },
  {
   "cell_type": "code",
   "execution_count": 12,
   "id": "d0b5f3ff",
   "metadata": {},
   "outputs": [
    {
     "data": {
      "text/plain": [
       "<AxesSubplot:xlabel='language', ylabel='count'>"
      ]
     },
     "execution_count": 12,
     "metadata": {},
     "output_type": "execute_result"
    },
    {
     "data": {
      "image/png": "[encoded data removed]",
      "text/plain": [
       "<Figure size 576x360 with 1 Axes>"
      ]
     },
     "metadata": {
      "needs_background": "light"
     },
     "output_type": "display_data"
    }
   ],
   "source": [
    "plt.figure(figsize=(8,5))\n",
    "sns.countplot(x='language', data=df, palette='rainbow')"
   ]
  },
  {
   "cell_type": "code",
   "execution_count": 13,
   "id": "0d31d195",
   "metadata": {},
   "outputs": [
    {
     "data": {
      "text/plain": [
       "array([<AxesSubplot:ylabel='country_destination'>], dtype=object)"
      ]
     },
     "execution_count": 13,
     "metadata": {},
     "output_type": "execute_result"
    },
    {
     "data": {
      "image/png": "[encoded data removed]",
      "text/plain": [
       "<Figure size 1008x576 with 1 Axes>"
      ]
     },
     "metadata": {},
     "output_type": "display_data"
    }
   ],
   "source": [
    "# Calcul des effectifs des variables qualitatives\n",
    "country= df.country_destination.value_counts()\n",
    "country.plot.pie(subplots=True, figsize = (14, 8), autopct='%.2f')"
   ]
  },
  {
   "cell_type": "markdown",
   "id": "9c83c90d",
   "metadata": {},
   "source": [
    "## 3.  Analyse approfondie des variables"
   ]
  },
  {
   "cell_type": "markdown",
   "id": "ceb9174b",
   "metadata": {},
   "source": [
    "#### Transformation des types:\n",
    "-Age: est un float, sera transformé en int34"
   ]
  },
  {
   "cell_type": "markdown",
   "id": "97ba92f1",
   "metadata": {},
   "source": [
    "#### La variable 'id'"
   ]
  },
  {
   "cell_type": "raw",
   "id": "17a0faaf",
   "metadata": {},
   "source": [
    "La variable 'ID' a probablement servi à l'anonymisation des données. Elle sera supprimée car elle n'apporte aucune valeur ajoutée au modèle."
   ]
  },
  {
   "cell_type": "markdown",
   "id": "5f195352",
   "metadata": {},
   "source": [
    "#### La variable age"
   ]
  },
  {
   "cell_type": "code",
   "execution_count": 14,
   "id": "db56595a",
   "metadata": {},
   "outputs": [
    {
     "name": "stdout",
     "output_type": "stream",
     "text": [
      "La variable 'age' a 87990 valeurs manquantes, ou bien 0.41% des enregistrements\n"
     ]
    }
   ],
   "source": [
    "# Valeurs manquantes:\n",
    "age= df[df['age'].isna()]\n",
    "pourc= round(len(age)/df.shape[0], 2)\n",
    "print(\"La variable 'age' a {} valeurs manquantes, ou bien {}% des enregistrements\".format(len(age), pourc))"
   ]
  },
  {
   "cell_type": "raw",
   "id": "be8ef165",
   "metadata": {},
   "source": [
    "L'âge peut être une variable importante pour la prédiction de la location ou non d'un appartement ainsi que de la destination choisie.\n",
    "En plus des valeurs manquantes, certains utilisateurs ont entré leur année de naissance à la place de leur âge. Comme le montre la ligne suivante, on peut voir des années (1926, 1938) mais aussi des données qu'on suppose être erronnées (112, 150).\n",
    "\n",
    "Pour corriger ces données, on peut soustraire l'année-âge de l'année de la création du compte pour avoir l'âge de la personne.\n",
    "Pour les autres valeurs aberrantes, on pourrait tout simplement les supprimer. D'abord les valeurs au-delà de 100 ans, ensuite celles en-deça de 10 ans.\n",
    "On pourrait aussi regrouper les âges dans des catégories (buckets), cette solution permettrait d'inclure même les valeurs aberrantes.\n",
    "\n",
    "-Comment remplacer les valeurs manquantes? on va les mettre à l'intérieur d'une catégorie, l'absence d'âge peut être significatif à notre modèle. "
   ]
  },
  {
   "cell_type": "code",
   "execution_count": 15,
   "id": "b742cce3",
   "metadata": {},
   "outputs": [
    {
     "data": {
      "text/plain": [
       "1942.0    1\n",
       "1935.0    1\n",
       "1995.0    1\n",
       "1925.0    1\n",
       "1926.0    1\n",
       "1952.0    1\n",
       "2008.0    1\n",
       "1938.0    1\n",
       "1953.0    1\n",
       "150.0     1\n",
       "Name: age, dtype: int64"
      ]
     },
     "execution_count": 15,
     "metadata": {},
     "output_type": "execute_result"
    }
   ],
   "source": [
    "# Age: certaines valeurs sont des années (de naissance du client)\n",
    "ages=df.age.value_counts(ascending=True)\n",
    "ages.head(10)"
   ]
  },
  {
   "cell_type": "markdown",
   "id": "16861cc5",
   "metadata": {},
   "source": [
    "#### Les variables dates"
   ]
  },
  {
   "cell_type": "raw",
   "id": "dce4435e",
   "metadata": {},
   "source": [
    "Il y a 3 variables dates: \"date_account_created\", \"timestamp_first_active\" et \"date_first_booking\".\n",
    "\n",
    "On a identifié 2 enjeux avec ces variables:\n",
    "1- Le format n'est pas identique pour les trois variables: \n",
    "\"timestamp_first_active\", comme son nom l'indique est un 'horodatage' qu'on doit donc convertir en format de date.\n",
    "2- \"date_first_booking\" contient 124543 données manquantes (0.58%). Une valeur NaN correspond à une valeur 'NDF' de la variable 'country_destination'. C'est-à-dire aucune date de réservation signifie aucune destination. Dans ce cas, on s'interroge sur la pertinence de cette variable à notre modèle puisque le but du modèle est de prédire une destination. Or 'NDF' indique absence de destination.\n",
    "D'autre part, pour exploiter les données dates dans notre modèle, on va extraire le mois à partir de la variable \"date_first_booking\" pour examiner l'influence du mois/saison sur les réservations ainsi que sur les destinations.\n",
    "On peut également examiner l'impact de l'intervalle entre l'inscription sur Airbnb et la date de réservation sur la cible.\n",
    "\n",
    "Donc, dans la deuxième partie de cette étude, on ne gardera que le mois de réservation, qui va s'avérer en fait plus important pour la prédiction que la simple date ou l'horodateur."
   ]
  },
  {
   "cell_type": "markdown",
   "id": "d96a3509",
   "metadata": {},
   "source": [
    "#### Variable 'gender'"
   ]
  },
  {
   "cell_type": "raw",
   "id": "a820d97a",
   "metadata": {},
   "source": [
    "La variable genre comporte, elle aussi, plusieurs valeurs manquantes marquées '-unknown-', au nombre de 95688 (0.45%).\n",
    "\n",
    "Si l'on décide de garder la valeur 'NDF' de la cible, alors on va également garder la valeur '-unknown-' mais sera convertie en une valeur numérique à travers un encodage. Dans ce cas de figure, une personne qui ne donne pas son 'genre' peut devenir significatif dans le modèle de prédiction, puisque celui-ci va prédire une non-réservation.\n",
    "\n",
    "Comme on peut le voir dans la figure suivante, il y a une forte corrélation entre la valeur '-unknown-' et la valeur 'NDF' de la variable cible: ceux qui n'ont pas rempli l'information sur le genre n'ont, en majorité, pas fait de réservation non plus."
   ]
  },
  {
   "cell_type": "code",
   "execution_count": 16,
   "id": "66ae26a2",
   "metadata": {},
   "outputs": [
    {
     "data": {
      "text/plain": [
       "<AxesSubplot:xlabel='country_destination', ylabel='count'>"
      ]
     },
     "execution_count": 16,
     "metadata": {},
     "output_type": "execute_result"
    },
    {
     "data": {
      "image/png": "[encoded data removed]",
      "text/plain": [
       "<Figure size 576x360 with 1 Axes>"
      ]
     },
     "metadata": {
      "needs_background": "light"
     },
     "output_type": "display_data"
    }
   ],
   "source": [
    "plt.figure(figsize=(8,5))\n",
    "sns.countplot(x='country_destination', data=df, palette='rainbow', hue='gender')"
   ]
  },
  {
   "cell_type": "markdown",
   "id": "af9b3fb0",
   "metadata": {},
   "source": [
    "#### Corrélations entre les variables elles-mêmes et entre les variables et la cible\n",
    "\n",
    "On a décelé une certaine corrélation entre certaines variables qualitatives. Pour tester la corrélation, on va recourir à la technique du crosstab et au test chi2"
   ]
  },
  {
   "cell_type": "markdown",
   "id": "e0020395",
   "metadata": {},
   "source": [
    "##### Test de corrélation entre les variables 'affiliate channel' et 'affiliate provider'"
   ]
  },
  {
   "cell_type": "code",
   "execution_count": 17,
   "id": "5f3caed6",
   "metadata": {},
   "outputs": [
    {
     "name": "stdout",
     "output_type": "stream",
     "text": [
      "affiliate_provider  baidu  bing  craigslist  daum  direct  email-marketing  \\\n",
      "affiliate_channel                                                            \n",
      "api                     0     0           0     0       0                0   \n",
      "content                 0     0           0     0       0                0   \n",
      "direct                  0     0           0     0  137426                0   \n",
      "other                   0     0        3471     0       0              166   \n",
      "remarketing             0     0           0     0       0                0   \n",
      "sem-brand               7   950           0     0       0                0   \n",
      "sem-non-brand          18   889           0     1       0                0   \n",
      "seo                     4   489           0     0       0                0   \n",
      "\n",
      "affiliate_provider  facebook  facebook-open-graph  google  gsp  meetup  naver  \\\n",
      "affiliate_channel                                                               \n",
      "api                        0                    0       0    0       0      0   \n",
      "content                  591                    0    2892  453       0      0   \n",
      "direct                     0                    0       0    0       0      0   \n",
      "other                      0                  545       0    0     347      0   \n",
      "remarketing                0                    0    1094    0       0      0   \n",
      "sem-brand                  0                    0   25069    0       0      7   \n",
      "sem-non-brand              5                    0   16947    0       0     45   \n",
      "seo                     1677                    0    5691    0       0      0   \n",
      "\n",
      "affiliate_provider  other  padmapper  vast  wayn  yahoo  yandex  \n",
      "affiliate_channel                                                \n",
      "api                  8167          0     0     0      0       0  \n",
      "content                11          0     0     0      0       1  \n",
      "direct                301          0     0     0      0       0  \n",
      "other                3656        768     0     8      0       0  \n",
      "remarketing             0          0     0     0      0       2  \n",
      "sem-brand               5          0     0     0      0       7  \n",
      "sem-non-brand         103          0   829     0      0       7  \n",
      "seo                   306          0     0     0    496       0  \n",
      "The P-Value of the ChiSq Test is: 0.0\n"
     ]
    }
   ],
   "source": [
    "CrosstabResult=pd.crosstab(index=df['affiliate_channel'],columns=df['affiliate_provider'])\n",
    "\n",
    "from scipy.stats import chi2_contingency\n",
    "print(CrosstabResult)\n",
    "#Chi-sq test\n",
    "ChiSqResult = chi2_contingency(CrosstabResult)\n",
    "\n",
    "# P-Value is the Probability of H0 being True\n",
    "# If P-Value > 0.05 then only we Accept the assumption(H0)\n",
    "\n",
    "print('The P-Value of the ChiSq Test is:', ChiSqResult[1])"
   ]
  },
  {
   "cell_type": "markdown",
   "id": "2e45eee3",
   "metadata": {},
   "source": [
    "##### Corrélation entre signup_app et signup_flow"
   ]
  },
  {
   "cell_type": "code",
   "execution_count": 18,
   "id": "535e1681",
   "metadata": {},
   "outputs": [
    {
     "name": "stdout",
     "output_type": "stream",
     "text": [
      "signup_flow      0     1     2     3   4   5    6    8   10    12  15  16  20  \\\n",
      "signup_app                                                                      \n",
      "Android           2     0     0     0   0   0    0    2   0  2599   0   0   0   \n",
      "Moweb           556     0     0     0   0   0    0    1   0  1825   0   0   0   \n",
      "Web          164001  1047  6881  8822   1  36  205  235   2   846  10  11  14   \n",
      "iOS             180     0     0     0   0   0   96    2   0  4059   0   0   0   \n",
      "\n",
      "signup_flow   21    23    24     25  \n",
      "signup_app                           \n",
      "Android        0  2818    33      0  \n",
      "Moweb          0     0  3879      0  \n",
      "Web          196    17   330     63  \n",
      "iOS            0     0    86  14596  \n",
      "The P-Value of the ChiSq Test is: 0.0\n"
     ]
    }
   ],
   "source": [
    "CrosstabResult2=pd.crosstab(index=df['signup_app'],columns=df['signup_flow'])\n",
    "\n",
    "from scipy.stats import chi2_contingency\n",
    "print(CrosstabResult2)\n",
    "#Chi-sq test\n",
    "ChiSqResult = chi2_contingency(CrosstabResult2)\n",
    "\n",
    "# P-Value is the Probability of H0 being True\n",
    "# If P-Value > 0.05 then only we Accept the assumption(H0)\n",
    "\n",
    "print('The P-Value of the ChiSq Test is:', ChiSqResult[1])"
   ]
  },
  {
   "cell_type": "markdown",
   "id": "eb221b22",
   "metadata": {},
   "source": [
    "## 4. Transformations"
   ]
  },
  {
   "cell_type": "markdown",
   "id": "52af08f1",
   "metadata": {},
   "source": [
    "#### Suppression de l'attribut 'id'"
   ]
  },
  {
   "cell_type": "code",
   "execution_count": 19,
   "id": "5536dc22",
   "metadata": {},
   "outputs": [],
   "source": [
    "df.drop('id', axis=1, inplace=True)"
   ]
  },
  {
   "cell_type": "markdown",
   "id": "d31e5bc1",
   "metadata": {},
   "source": [
    "#### Transformation de l'attribut 'age'\n",
    "\n",
    "En plus des 87990 valeurs manquantes, la variable 'age' contient des valeurs aberrantes. Celles-ci sont de 2 types:\n",
    "\n",
    "1- des valeurs aberrantes comme '150' ans\n",
    "\n",
    "2- des années à la place de l'âge de la personne, comme '2008'.\n",
    "\n",
    "D'autre part, la variable 'âge' a le type 'object' au lieu de 'int'\n",
    "\n",
    "##### Stratégie:\n",
    "1- Convertir le type de l'attribut de 'object' à int\n",
    "\n",
    "2- Bucketing: regrouper les différentes valeurs dans des catégories 'bins'"
   ]
  },
  {
   "cell_type": "code",
   "execution_count": 20,
   "id": "7a46823a",
   "metadata": {},
   "outputs": [],
   "source": [
    "# Convertir le type de 'age' et en même temps remplacer, momentanément, les valeurs manquantes par 0\n",
    "df['age'] = df['age'].fillna(0).astype(int)"
   ]
  },
  {
   "cell_type": "code",
   "execution_count": 21,
   "id": "780a3e44",
   "metadata": {},
   "outputs": [],
   "source": [
    "# Convertir la variable ages en catégories/bins:\n",
    "df['ages']= pd.cut(df['age'],\n",
    "                            bins= [-1,20,40,60,100,2014],\n",
    "                           labels= [1,2,3,4,5])"
   ]
  },
  {
   "cell_type": "markdown",
   "id": "22cddcbd",
   "metadata": {},
   "source": [
    "#### Transformer puis supprimer les variables de type Date:\n",
    "Dans ce qui suit, le but des transformations est d'extraire 2 prédicteurs: 'month_of_booking' et 'year_of_creation' du compte"
   ]
  },
  {
   "cell_type": "code",
   "execution_count": 22,
   "id": "8ea53fb9",
   "metadata": {},
   "outputs": [],
   "source": [
    "# Convertir 'date_first_booking' en un object datetime\n",
    "df[\"booking_date\"] = pd.to_datetime(df.date_first_booking,format=\"%Y-%m-%d\")"
   ]
  },
  {
   "cell_type": "code",
   "execution_count": 23,
   "id": "f5792185",
   "metadata": {},
   "outputs": [],
   "source": [
    "#Extraire le mois de réservation\n",
    "df['month_of_booking'] = df['booking_date'].map(lambda dt:dt.month\n",
    "if not pd.isnull(dt.month)\n",
    "else None)"
   ]
  },
  {
   "cell_type": "code",
   "execution_count": 24,
   "id": "0d5b85b2",
   "metadata": {},
   "outputs": [],
   "source": [
    "# Convertir 'date_account_created' en un object datetime\n",
    "df[\"creation_date\"] = pd.to_datetime(df.date_account_created,format=\"%Y-%m-%d\")"
   ]
  },
  {
   "cell_type": "code",
   "execution_count": 25,
   "id": "9990178f",
   "metadata": {},
   "outputs": [],
   "source": [
    "# extraire l'année\n",
    "df['year_of_creation'] = df['creation_date'].map(lambda dt:dt.year\n",
    "if not pd.isnull(dt.year)\n",
    "else None)"
   ]
  },
  {
   "cell_type": "code",
   "execution_count": 26,
   "id": "fd5eb783",
   "metadata": {},
   "outputs": [],
   "source": [
    "#Convertir le type de 'month_of_booking' et en même temps remplacer, momentanément, les valeurs manquantes par 0\n",
    "df['month_of_booking'] = df['month_of_booking'].fillna(0).astype(int)"
   ]
  },
  {
   "cell_type": "markdown",
   "id": "cd55b995",
   "metadata": {},
   "source": [
    "#### Suppression des attributs ayant servi aux transformations et suppression des attributs fortements corrélés\n"
   ]
  },
  {
   "cell_type": "code",
   "execution_count": 27,
   "id": "eb6220c7",
   "metadata": {},
   "outputs": [],
   "source": [
    "#Supprimer les attributs: date_account_created, timestamp_first_active et date_first_booking\n",
    "df.drop([\"date_account_created\", \"timestamp_first_active\",\"date_first_booking\",\"age\",\"creation_date\", \"signup_flow\", \"affiliate_provider\", \"first_device_type\", \"booking_date\"], axis=1, inplace=True)"
   ]
  },
  {
   "cell_type": "code",
   "execution_count": 28,
   "id": "32b68a62",
   "metadata": {},
   "outputs": [
    {
     "data": {
      "text/plain": [
       "(213451, 11)"
      ]
     },
     "execution_count": 28,
     "metadata": {},
     "output_type": "execute_result"
    }
   ],
   "source": [
    "#Shape du datatset après transformation\n",
    "df.shape"
   ]
  },
  {
   "cell_type": "markdown",
   "id": "0fcd2329",
   "metadata": {},
   "source": [
    "#### Remplacement de valeurs manquantes:\n",
    "La vaariable 'first_affiliate_tracked' comporte des valeurs manquantes qu'on va remplacer par des valeurs existantes à l'aide de la méthode fillna()"
   ]
  },
  {
   "cell_type": "code",
   "execution_count": 29,
   "id": "a4a1adca",
   "metadata": {},
   "outputs": [],
   "source": [
    "df[\"first_affiliate_tracked\"].fillna(method=\"bfill\", inplace=True)"
   ]
  },
  {
   "cell_type": "markdown",
   "id": "a5455ea2",
   "metadata": {},
   "source": [
    "### Encodage"
   ]
  },
  {
   "cell_type": "code",
   "execution_count": 30,
   "id": "54a8a924",
   "metadata": {},
   "outputs": [
    {
     "name": "stdout",
     "output_type": "stream",
     "text": [
      "['gender', 'signup_method', 'language', 'affiliate_channel', 'first_affiliate_tracked', 'signup_app', 'first_browser', 'country_destination']\n"
     ]
    }
   ],
   "source": [
    "#Affichage des attributs catégoriels\n",
    "cat_cols = df.select_dtypes(include=\"object\").columns.tolist()\n",
    "print(cat_cols)"
   ]
  },
  {
   "cell_type": "code",
   "execution_count": 31,
   "id": "fa951612",
   "metadata": {},
   "outputs": [],
   "source": [
    "le_gender= LabelEncoder().fit(df[\"gender\"])\n",
    "genders=df[\"gender\"]=le_gender.transform(df[\"gender\"])\n",
    "df[\"gender_encoded\"]=genders\n",
    "\n",
    "le_signup_method= LabelEncoder().fit(df[\"signup_method\"])\n",
    "signups= df[\"signup_method\"]=le_signup_method.transform(df[\"signup_method\"])\n",
    "df[\"signup_encoded\"]=signups\n",
    "\n",
    "\n",
    "le_language= LabelEncoder().fit(df[\"language\"])\n",
    "languages= df[\"language\"]=le_language.transform(df[\"language\"])\n",
    "df[\"language_encoded\"] =languages\n",
    "\n",
    "\n",
    "le_affiliate_channel= LabelEncoder().fit(df[\"affiliate_channel\"])\n",
    "channels= df[\"affiliate_channel\"]=le_affiliate_channel.transform(df[\"affiliate_channel\"])\n",
    "df[\"affiliate_channel_encoded\"]=channels\n",
    "\n",
    "le_first_affiliate_tracked= LabelEncoder().fit(df[\"first_affiliate_tracked\"])\n",
    "affiliates= df[\"first_affiliate_tracked\"]=le_first_affiliate_tracked.transform(df[\"first_affiliate_tracked\"])\n",
    "df[\"first_affiliate_tracked_encoded\"]=affiliates\n",
    "\n",
    "le_signup_app= LabelEncoder().fit(df[\"signup_app\"])\n",
    "apps= df[\"signup_app\"]=le_signup_app.transform(df[\"signup_app\"])\n",
    "df[\"signup_app_encoded\"]=apps\n",
    "\n",
    "le_country_destination= LabelEncoder().fit(df[\"country_destination\"])\n",
    "destinations= df[\"country_destination\"]=le_country_destination.transform(df[\"country_destination\"])\n",
    "df[\"country_destination_encoded\"]=destinations\n",
    "\n",
    "le_first_browser= LabelEncoder().fit(df[\"first_browser\"])\n",
    "browsers= df[\"first_browser\"]=le_first_browser.transform(df[\"first_browser\"])\n",
    "df[\"first_browser_encoded\"]=browsers"
   ]
  },
  {
   "cell_type": "code",
   "execution_count": 32,
   "id": "295b8761",
   "metadata": {},
   "outputs": [],
   "source": [
    "# supprimer les catégories transformées\n",
    "df.drop([\"gender\",\"signup_method\",\"language\",\"affiliate_channel\",\"first_affiliate_tracked\",\"signup_app\",\n",
    "         \"country_destination\",\"first_browser\"], axis=1, inplace=True)"
   ]
  },
  {
   "cell_type": "markdown",
   "id": "981bff8a",
   "metadata": {},
   "source": [
    "#### Encodage manuel de la catégorie 'year_of_creation'"
   ]
  },
  {
   "cell_type": "code",
   "execution_count": 33,
   "id": "bbc9a9d9",
   "metadata": {},
   "outputs": [],
   "source": [
    "df[\"year_of_creation\"]= df.year_of_creation.map(lambda x : 1 if x==2010 else 2 if x ==2011\n",
    "                                                else 3 if x==2012 else 4 if x==2013 else 5)"
   ]
  },
  {
   "cell_type": "code",
   "execution_count": 34,
   "id": "007a7e01",
   "metadata": {},
   "outputs": [
    {
     "data": {
      "text/html": [
       "<div>\n",
       "<style scoped>\n",
       "    .dataframe tbody tr th:only-of-type {\n",
       "        vertical-align: middle;\n",
       "    }\n",
       "\n",
       "    .dataframe tbody tr th {\n",
       "        vertical-align: top;\n",
       "    }\n",
       "\n",
       "    .dataframe thead th {\n",
       "        text-align: right;\n",
       "    }\n",
       "</style>\n",
       "<table border=\"1\" class=\"dataframe\">\n",
       "  <thead>\n",
       "    <tr style=\"text-align: right;\">\n",
       "      <th></th>\n",
       "      <th>ages</th>\n",
       "      <th>month_of_booking</th>\n",
       "      <th>year_of_creation</th>\n",
       "      <th>gender_encoded</th>\n",
       "      <th>signup_encoded</th>\n",
       "      <th>language_encoded</th>\n",
       "      <th>affiliate_channel_encoded</th>\n",
       "      <th>first_affiliate_tracked_encoded</th>\n",
       "      <th>signup_app_encoded</th>\n",
       "      <th>country_destination_encoded</th>\n",
       "      <th>first_browser_encoded</th>\n",
       "    </tr>\n",
       "  </thead>\n",
       "  <tbody>\n",
       "    <tr>\n",
       "      <th>0</th>\n",
       "      <td>1</td>\n",
       "      <td>0</td>\n",
       "      <td>1</td>\n",
       "      <td>0</td>\n",
       "      <td>1</td>\n",
       "      <td>5</td>\n",
       "      <td>2</td>\n",
       "      <td>6</td>\n",
       "      <td>2</td>\n",
       "      <td>7</td>\n",
       "      <td>8</td>\n",
       "    </tr>\n",
       "    <tr>\n",
       "      <th>1</th>\n",
       "      <td>2</td>\n",
       "      <td>0</td>\n",
       "      <td>2</td>\n",
       "      <td>2</td>\n",
       "      <td>1</td>\n",
       "      <td>5</td>\n",
       "      <td>7</td>\n",
       "      <td>6</td>\n",
       "      <td>2</td>\n",
       "      <td>7</td>\n",
       "      <td>8</td>\n",
       "    </tr>\n",
       "    <tr>\n",
       "      <th>2</th>\n",
       "      <td>3</td>\n",
       "      <td>8</td>\n",
       "      <td>1</td>\n",
       "      <td>1</td>\n",
       "      <td>0</td>\n",
       "      <td>5</td>\n",
       "      <td>2</td>\n",
       "      <td>6</td>\n",
       "      <td>2</td>\n",
       "      <td>10</td>\n",
       "      <td>21</td>\n",
       "    </tr>\n",
       "    <tr>\n",
       "      <th>3</th>\n",
       "      <td>3</td>\n",
       "      <td>9</td>\n",
       "      <td>2</td>\n",
       "      <td>1</td>\n",
       "      <td>1</td>\n",
       "      <td>5</td>\n",
       "      <td>2</td>\n",
       "      <td>6</td>\n",
       "      <td>2</td>\n",
       "      <td>11</td>\n",
       "      <td>17</td>\n",
       "    </tr>\n",
       "    <tr>\n",
       "      <th>4</th>\n",
       "      <td>3</td>\n",
       "      <td>2</td>\n",
       "      <td>1</td>\n",
       "      <td>0</td>\n",
       "      <td>0</td>\n",
       "      <td>5</td>\n",
       "      <td>2</td>\n",
       "      <td>6</td>\n",
       "      <td>2</td>\n",
       "      <td>10</td>\n",
       "      <td>8</td>\n",
       "    </tr>\n",
       "  </tbody>\n",
       "</table>\n",
       "</div>"
      ],
      "text/plain": [
       "  ages  month_of_booking  year_of_creation  gender_encoded  signup_encoded  \\\n",
       "0    1                 0                 1               0               1   \n",
       "1    2                 0                 2               2               1   \n",
       "2    3                 8                 1               1               0   \n",
       "3    3                 9                 2               1               1   \n",
       "4    3                 2                 1               0               0   \n",
       "\n",
       "   language_encoded  affiliate_channel_encoded  \\\n",
       "0                 5                          2   \n",
       "1                 5                          7   \n",
       "2                 5                          2   \n",
       "3                 5                          2   \n",
       "4                 5                          2   \n",
       "\n",
       "   first_affiliate_tracked_encoded  signup_app_encoded  \\\n",
       "0                                6                   2   \n",
       "1                                6                   2   \n",
       "2                                6                   2   \n",
       "3                                6                   2   \n",
       "4                                6                   2   \n",
       "\n",
       "   country_destination_encoded  first_browser_encoded  \n",
       "0                            7                      8  \n",
       "1                            7                      8  \n",
       "2                           10                     21  \n",
       "3                           11                     17  \n",
       "4                           10                      8  "
      ]
     },
     "execution_count": 34,
     "metadata": {},
     "output_type": "execute_result"
    }
   ],
   "source": [
    "# Affichage du datatset après les transformations et l'encodage catégoriel\n",
    "df.head()"
   ]
  },
  {
   "cell_type": "markdown",
   "id": "9e69f566",
   "metadata": {},
   "source": [
    "### Visualisation de la corrélation entre les variables:"
   ]
  },
  {
   "cell_type": "code",
   "execution_count": 35,
   "id": "d454eab1",
   "metadata": {},
   "outputs": [
    {
     "data": {
      "image/png": "[encoded data removed]",
      "text/plain": [
       "<Figure size 1008x864 with 2 Axes>"
      ]
     },
     "metadata": {
      "needs_background": "light"
     },
     "output_type": "display_data"
    }
   ],
   "source": [
    "plt.figure(figsize=(14,12))\n",
    "sns.heatmap(df.corr(),linewidths=.1,cmap=\"YlGnBu\", annot=True)\n",
    "plt.yticks(rotation=0);"
   ]
  },
  {
   "cell_type": "markdown",
   "id": "2b0e93d1",
   "metadata": {},
   "source": [
    "## Développement du modèle"
   ]
  },
  {
   "cell_type": "markdown",
   "id": "09a5a095",
   "metadata": {},
   "source": [
    "#### Choix des prédicteurs"
   ]
  },
  {
   "cell_type": "code",
   "execution_count": 36,
   "id": "29e1dea9",
   "metadata": {},
   "outputs": [
    {
     "data": {
      "text/plain": [
       "(213451, 10)"
      ]
     },
     "execution_count": 36,
     "metadata": {},
     "output_type": "execute_result"
    }
   ],
   "source": [
    "# choix des prédicteurs\n",
    "X= df.drop(columns=\"country_destination_encoded\")\n",
    "X.shape"
   ]
  },
  {
   "cell_type": "code",
   "execution_count": 37,
   "id": "4ccd55a9",
   "metadata": {},
   "outputs": [
    {
     "name": "stdout",
     "output_type": "stream",
     "text": [
      "(213451, 1)\n"
     ]
    }
   ],
   "source": [
    "#définir la cible\n",
    "y= df[['country_destination_encoded']]\n",
    "print(y.shape)"
   ]
  },
  {
   "cell_type": "code",
   "execution_count": 38,
   "id": "c083a314",
   "metadata": {},
   "outputs": [
    {
     "data": {
      "text/plain": [
       "['AU', 'CA', 'DE', 'ES', 'FR', 'GB', 'IT', 'NDF', 'NL', 'PT', 'US', 'other']"
      ]
     },
     "execution_count": 38,
     "metadata": {},
     "output_type": "execute_result"
    }
   ],
   "source": [
    "# Affichage de l'encodage de la cible (elle servira au test sur un échantillon)\n",
    "list(le_country_destination.inverse_transform([0,1,2,3,4,5,6,7,8,9,10,11]))"
   ]
  },
  {
   "cell_type": "markdown",
   "id": "d0c0cffd",
   "metadata": {},
   "source": [
    "#### Apprentissage du modèle"
   ]
  },
  {
   "cell_type": "code",
   "execution_count": 39,
   "id": "b0387402",
   "metadata": {},
   "outputs": [],
   "source": [
    "# Séparation des données en train et test\n",
    "X_train, X_test, y_train, y_test= train_test_split(X, y, test_size=0.2, random_state=42)"
   ]
  },
  {
   "cell_type": "code",
   "execution_count": 40,
   "id": "1c661b04",
   "metadata": {},
   "outputs": [],
   "source": [
    "def createModel(predictors, target, model):\n",
    "    model = model\n",
    "    model.fit(predictors, np.ravel(target))\n",
    "    return model"
   ]
  },
  {
   "cell_type": "code",
   "execution_count": 41,
   "id": "8c369781",
   "metadata": {},
   "outputs": [],
   "source": [
    "model= createModel(X_train, y_train,GaussianNB())"
   ]
  },
  {
   "cell_type": "markdown",
   "id": "35950601",
   "metadata": {},
   "source": [
    "#### Métriques"
   ]
  },
  {
   "cell_type": "code",
   "execution_count": 42,
   "id": "1c8d0f07",
   "metadata": {},
   "outputs": [
    {
     "name": "stdout",
     "output_type": "stream",
     "text": [
      "Métriques du modèle GaussianNB(): \n",
      "Accuracy: 0.8723852802698461\n",
      "Recall score du modèle est: 0.8723852802698461 \n",
      "precision_score du modèle est: 0.8723852802698461 \n",
      "F1 Score du modèle est: 0.8242114155845065 \n",
      "\n",
      "\n",
      "Confusion matrix: \n",
      "[[    0     0     0     0     0     0     0     0     0     0   114     0]\n",
      " [    0     0     0     0     0     0     0     0     0     0   273     2]\n",
      " [    0     0     0     0     0     0     0     0     0     0   207     1]\n",
      " [    0     0     0     0     0     0     0     0     0     0   447     4]\n",
      " [    0     0     0     0     0     0     0     0     0     0  1003     7]\n",
      " [    0     0     0     0     0     0     0     0     0     0   495     2]\n",
      " [    0     0     0     0     0     0     0     0     0     0   557     5]\n",
      " [    0     0     0     0     0     0     0 24843     0     0     0     0]\n",
      " [    0     0     0     0     0     0     0     0     0     0   151     4]\n",
      " [    0     0     0     0     0     0     0     0     0     0    45     0]\n",
      " [    0     0     0     0     0     0     0     0     0     0 12360   165]\n",
      " [    0     0     0     0     0     0     0     0     0     0  1966    40]]\n",
      "==============================================\n"
     ]
    },
    {
     "name": "stderr",
     "output_type": "stream",
     "text": [
      "C:\\Users\\JohnBigData\\anaconda3\\lib\\site-packages\\sklearn\\metrics\\_classification.py:1334: UndefinedMetricWarning: Precision is ill-defined and being set to 0.0 in labels with no predicted samples. Use `zero_division` parameter to control this behavior.\n",
      "  _warn_prf(average, modifier, msg_start, len(result))\n"
     ]
    }
   ],
   "source": [
    "models=[model]\n",
    "for model in models:\n",
    "    y_pred= model.predict(X_test)\n",
    "    print(\"Métriques du modèle {}: \".format(model))\n",
    "    # Model Accuracy, how often is the classifier correct?\n",
    "    print(\"Accuracy:\",metrics.accuracy_score(y_test, y_pred))\n",
    "    #recall score (sensibilié)\n",
    "    recall_score = metrics.recall_score(y_test, y_pred,average='weighted')\n",
    "    print(\"Recall score du modèle est: {} \".format(recall_score))\n",
    "\n",
    "    #recall score (sensibilié)\n",
    "    precision_score = metrics.precision_score(y_test, y_pred, average='weighted')\n",
    "    print(\"precision_score du modèle est: {} \".format(recall_score))\n",
    "    #recall score (sensibilié)\n",
    "    f1_score = metrics.f1_score(y_test, y_pred, average='weighted')\n",
    "    print(\"F1 Score du modèle est: {} \".format(f1_score))\n",
    "    print(\"\\n\")\n",
    "    #print(\"Nombre de points mal-classifiés sur un total de %d points : %d\" % (X_test.shape[0], (y_test != y_pred).sum()))\n",
    "    print(\"Confusion matrix: \")\n",
    "    print(confusion_matrix(y_test, y_pred))\n",
    "    print(\"==============================================\")"
   ]
  },
  {
   "cell_type": "markdown",
   "id": "3cdfd7ca",
   "metadata": {},
   "source": [
    "## 6. Lecture et affichage du dataset de test"
   ]
  },
  {
   "cell_type": "code",
   "execution_count": 44,
   "id": "a3904862",
   "metadata": {
    "scrolled": true
   },
   "outputs": [],
   "source": [
    "df_test= pd.read_csv(\"test_users.csv\")"
   ]
  },
  {
   "cell_type": "code",
   "execution_count": 45,
   "id": "3d59f034",
   "metadata": {},
   "outputs": [
    {
     "data": {
      "text/plain": [
       "(62096, 15)"
      ]
     },
     "execution_count": 45,
     "metadata": {},
     "output_type": "execute_result"
    }
   ],
   "source": [
    "df_test.shape"
   ]
  },
  {
   "cell_type": "code",
   "execution_count": 46,
   "id": "f3b0f9a0",
   "metadata": {},
   "outputs": [
    {
     "data": {
      "text/html": [
       "<div>\n",
       "<style scoped>\n",
       "    .dataframe tbody tr th:only-of-type {\n",
       "        vertical-align: middle;\n",
       "    }\n",
       "\n",
       "    .dataframe tbody tr th {\n",
       "        vertical-align: top;\n",
       "    }\n",
       "\n",
       "    .dataframe thead th {\n",
       "        text-align: right;\n",
       "    }\n",
       "</style>\n",
       "<table border=\"1\" class=\"dataframe\">\n",
       "  <thead>\n",
       "    <tr style=\"text-align: right;\">\n",
       "      <th></th>\n",
       "      <th>id</th>\n",
       "      <th>date_account_created</th>\n",
       "      <th>timestamp_first_active</th>\n",
       "      <th>date_first_booking</th>\n",
       "      <th>gender</th>\n",
       "      <th>age</th>\n",
       "      <th>signup_method</th>\n",
       "      <th>signup_flow</th>\n",
       "      <th>language</th>\n",
       "      <th>affiliate_channel</th>\n",
       "      <th>affiliate_provider</th>\n",
       "      <th>first_affiliate_tracked</th>\n",
       "      <th>signup_app</th>\n",
       "      <th>first_device_type</th>\n",
       "      <th>first_browser</th>\n",
       "    </tr>\n",
       "  </thead>\n",
       "  <tbody>\n",
       "    <tr>\n",
       "      <th>0</th>\n",
       "      <td>5uwns89zht</td>\n",
       "      <td>2014-07-01</td>\n",
       "      <td>20140701000006</td>\n",
       "      <td>NaN</td>\n",
       "      <td>FEMALE</td>\n",
       "      <td>35.0</td>\n",
       "      <td>facebook</td>\n",
       "      <td>0</td>\n",
       "      <td>en</td>\n",
       "      <td>direct</td>\n",
       "      <td>direct</td>\n",
       "      <td>untracked</td>\n",
       "      <td>Moweb</td>\n",
       "      <td>iPhone</td>\n",
       "      <td>Mobile Safari</td>\n",
       "    </tr>\n",
       "    <tr>\n",
       "      <th>1</th>\n",
       "      <td>jtl0dijy2j</td>\n",
       "      <td>2014-07-01</td>\n",
       "      <td>20140701000051</td>\n",
       "      <td>NaN</td>\n",
       "      <td>-unknown-</td>\n",
       "      <td>NaN</td>\n",
       "      <td>basic</td>\n",
       "      <td>0</td>\n",
       "      <td>en</td>\n",
       "      <td>direct</td>\n",
       "      <td>direct</td>\n",
       "      <td>untracked</td>\n",
       "      <td>Moweb</td>\n",
       "      <td>iPhone</td>\n",
       "      <td>Mobile Safari</td>\n",
       "    </tr>\n",
       "    <tr>\n",
       "      <th>2</th>\n",
       "      <td>xx0ulgorjt</td>\n",
       "      <td>2014-07-01</td>\n",
       "      <td>20140701000148</td>\n",
       "      <td>NaN</td>\n",
       "      <td>-unknown-</td>\n",
       "      <td>NaN</td>\n",
       "      <td>basic</td>\n",
       "      <td>0</td>\n",
       "      <td>en</td>\n",
       "      <td>direct</td>\n",
       "      <td>direct</td>\n",
       "      <td>linked</td>\n",
       "      <td>Web</td>\n",
       "      <td>Windows Desktop</td>\n",
       "      <td>Chrome</td>\n",
       "    </tr>\n",
       "    <tr>\n",
       "      <th>3</th>\n",
       "      <td>6c6puo6ix0</td>\n",
       "      <td>2014-07-01</td>\n",
       "      <td>20140701000215</td>\n",
       "      <td>NaN</td>\n",
       "      <td>-unknown-</td>\n",
       "      <td>NaN</td>\n",
       "      <td>basic</td>\n",
       "      <td>0</td>\n",
       "      <td>en</td>\n",
       "      <td>direct</td>\n",
       "      <td>direct</td>\n",
       "      <td>linked</td>\n",
       "      <td>Web</td>\n",
       "      <td>Windows Desktop</td>\n",
       "      <td>IE</td>\n",
       "    </tr>\n",
       "    <tr>\n",
       "      <th>4</th>\n",
       "      <td>czqhjk3yfe</td>\n",
       "      <td>2014-07-01</td>\n",
       "      <td>20140701000305</td>\n",
       "      <td>NaN</td>\n",
       "      <td>-unknown-</td>\n",
       "      <td>NaN</td>\n",
       "      <td>basic</td>\n",
       "      <td>0</td>\n",
       "      <td>en</td>\n",
       "      <td>direct</td>\n",
       "      <td>direct</td>\n",
       "      <td>untracked</td>\n",
       "      <td>Web</td>\n",
       "      <td>Mac Desktop</td>\n",
       "      <td>Safari</td>\n",
       "    </tr>\n",
       "  </tbody>\n",
       "</table>\n",
       "</div>"
      ],
      "text/plain": [
       "           id date_account_created  timestamp_first_active  \\\n",
       "0  5uwns89zht           2014-07-01          20140701000006   \n",
       "1  jtl0dijy2j           2014-07-01          20140701000051   \n",
       "2  xx0ulgorjt           2014-07-01          20140701000148   \n",
       "3  6c6puo6ix0           2014-07-01          20140701000215   \n",
       "4  czqhjk3yfe           2014-07-01          20140701000305   \n",
       "\n",
       "   date_first_booking     gender   age signup_method  signup_flow language  \\\n",
       "0                 NaN     FEMALE  35.0      facebook            0       en   \n",
       "1                 NaN  -unknown-   NaN         basic            0       en   \n",
       "2                 NaN  -unknown-   NaN         basic            0       en   \n",
       "3                 NaN  -unknown-   NaN         basic            0       en   \n",
       "4                 NaN  -unknown-   NaN         basic            0       en   \n",
       "\n",
       "  affiliate_channel affiliate_provider first_affiliate_tracked signup_app  \\\n",
       "0            direct             direct               untracked      Moweb   \n",
       "1            direct             direct               untracked      Moweb   \n",
       "2            direct             direct                  linked        Web   \n",
       "3            direct             direct                  linked        Web   \n",
       "4            direct             direct               untracked        Web   \n",
       "\n",
       "  first_device_type  first_browser  \n",
       "0            iPhone  Mobile Safari  \n",
       "1            iPhone  Mobile Safari  \n",
       "2   Windows Desktop         Chrome  \n",
       "3   Windows Desktop             IE  \n",
       "4       Mac Desktop         Safari  "
      ]
     },
     "execution_count": 46,
     "metadata": {},
     "output_type": "execute_result"
    }
   ],
   "source": [
    "df_test.head()"
   ]
  },
  {
   "cell_type": "markdown",
   "id": "0133bc89",
   "metadata": {},
   "source": [
    "#### Nettoyage et transformation du dataset"
   ]
  },
  {
   "cell_type": "code",
   "execution_count": 47,
   "id": "bc251101",
   "metadata": {},
   "outputs": [],
   "source": [
    "df_test.drop('id', axis=1, inplace=True)"
   ]
  },
  {
   "cell_type": "code",
   "execution_count": 48,
   "id": "913f10e5",
   "metadata": {},
   "outputs": [],
   "source": [
    "df_test['age'] = df_test['age'].fillna(0).astype(int)"
   ]
  },
  {
   "cell_type": "code",
   "execution_count": 49,
   "id": "cf10a087",
   "metadata": {},
   "outputs": [],
   "source": [
    "# Convertir 'date_first_booking' en un object datetime\n",
    "df_test[\"booking_date\"] = pd.to_datetime(df_test.date_first_booking,format=\"%Y-%m-%d\")"
   ]
  },
  {
   "cell_type": "code",
   "execution_count": 50,
   "id": "068ba747",
   "metadata": {},
   "outputs": [],
   "source": [
    "#Extraire le mois de réservation\n",
    "df_test['month_of_booking'] = df_test['booking_date'].map(lambda dt:dt.month\n",
    "if not pd.isnull(dt.month)\n",
    "else None)"
   ]
  },
  {
   "cell_type": "code",
   "execution_count": 51,
   "id": "f5e243ef",
   "metadata": {},
   "outputs": [],
   "source": [
    "df_test['month_of_booking'] = df_test['month_of_booking'].fillna(0).astype(int)"
   ]
  },
  {
   "cell_type": "code",
   "execution_count": 52,
   "id": "13934a4b",
   "metadata": {},
   "outputs": [],
   "source": [
    "df_test[\"creation_date\"] = pd.to_datetime(df_test.date_account_created,format=\"%Y-%m-%d\")"
   ]
  },
  {
   "cell_type": "code",
   "execution_count": 53,
   "id": "ed4204b0",
   "metadata": {},
   "outputs": [],
   "source": [
    "# extraire l'année\n",
    "df_test['year_of_creation'] = df_test['creation_date'].map(lambda dt:dt.year\n",
    "if not pd.isnull(dt.year)\n",
    "else None)"
   ]
  },
  {
   "cell_type": "code",
   "execution_count": 54,
   "id": "46a04b5c",
   "metadata": {},
   "outputs": [],
   "source": [
    "# Convertir la variable age en catégories:\n",
    "df_test['ages']= pd.cut(df_test['age'],\n",
    "                            bins= [-1,20,40,60,100,2014],\n",
    "                           labels= [1,2,3,4,5])"
   ]
  },
  {
   "cell_type": "code",
   "execution_count": 55,
   "id": "e4c723e7",
   "metadata": {},
   "outputs": [],
   "source": [
    "df_test[\"first_affiliate_tracked\"].fillna(method=\"bfill\", inplace=True)"
   ]
  },
  {
   "cell_type": "code",
   "execution_count": 56,
   "id": "ab7b16ad",
   "metadata": {},
   "outputs": [],
   "source": [
    "#Supprimer les attributs: date_account_created, timestamp_first_active et date_first_booking\n",
    "df_test.drop([\"date_account_created\", \"timestamp_first_active\",\"date_first_booking\",\"age\",\"creation_date\", \"signup_flow\", \"affiliate_provider\", \"first_device_type\", \"booking_date\"], axis=1, inplace=True)"
   ]
  },
  {
   "cell_type": "code",
   "execution_count": 57,
   "id": "18dccce4",
   "metadata": {},
   "outputs": [
    {
     "data": {
      "text/plain": [
       "(62096, 10)"
      ]
     },
     "execution_count": 57,
     "metadata": {},
     "output_type": "execute_result"
    }
   ],
   "source": [
    "# Forme du dataset\n",
    "df_test.shape"
   ]
  },
  {
   "cell_type": "markdown",
   "id": "63c48c39",
   "metadata": {},
   "source": [
    "#### Encodage"
   ]
  },
  {
   "cell_type": "code",
   "execution_count": 58,
   "id": "1e7df2f6",
   "metadata": {},
   "outputs": [],
   "source": [
    "le_gender= LabelEncoder().fit(df_test[\"gender\"])\n",
    "genders=df_test[\"gender\"]=le_gender.transform(df_test[\"gender\"])\n",
    "df_test[\"gender_encoded\"]=genders\n",
    "\n",
    "le_signup_method= LabelEncoder().fit(df_test[\"signup_method\"])\n",
    "signups= df_test[\"signup_method\"]=le_signup_method.transform(df_test[\"signup_method\"])\n",
    "df_test[\"signup_encoded\"]=signups\n",
    "\n",
    "\n",
    "le_language= LabelEncoder().fit(df_test[\"language\"])\n",
    "languages= df_test[\"language\"]=le_language.transform(df_test[\"language\"])\n",
    "df_test[\"language_encoded\"] =languages\n",
    "\n",
    "\n",
    "le_affiliate_channel= LabelEncoder().fit(df_test[\"affiliate_channel\"])\n",
    "channels= df_test[\"affiliate_channel\"]=le_affiliate_channel.transform(df_test[\"affiliate_channel\"])\n",
    "df_test[\"affiliate_channel_encoded\"]=channels\n",
    "\n",
    "le_first_affiliate_tracked= LabelEncoder().fit(df_test[\"first_affiliate_tracked\"])\n",
    "affiliates= df_test[\"first_affiliate_tracked\"]=le_first_affiliate_tracked.transform(df_test[\"first_affiliate_tracked\"])\n",
    "df_test[\"first_affiliate_tracked_encoded\"]=affiliates\n",
    "\n",
    "le_signup_app= LabelEncoder().fit(df_test[\"signup_app\"])\n",
    "apps= df_test[\"signup_app\"]=le_signup_app.transform(df_test[\"signup_app\"])\n",
    "df_test[\"signup_app_encoded\"]=apps\n",
    "\n",
    "le_first_browser= LabelEncoder().fit(df_test[\"first_browser\"])\n",
    "browsers= df_test[\"first_browser\"]=le_first_browser.transform(df_test[\"first_browser\"])\n",
    "df_test[\"first_browser_encoded\"]=browsers"
   ]
  },
  {
   "cell_type": "code",
   "execution_count": 59,
   "id": "8cbee3e7",
   "metadata": {},
   "outputs": [],
   "source": [
    "# suppression des attributs transformés\n",
    "df_test.drop([\"gender\",\"signup_method\",\"language\",\"affiliate_channel\",\"first_affiliate_tracked\",\"signup_app\",\n",
    "         \"first_browser\"], axis=1, inplace=True)"
   ]
  },
  {
   "cell_type": "code",
   "execution_count": 60,
   "id": "2219d2b9",
   "metadata": {},
   "outputs": [],
   "source": [
    "# encodage manuel de la variable 'year_of_creation'\n",
    "df_test[\"year_of_creation\"]= df_test.year_of_creation.map(lambda x : 1 if x==2010 else 2 if x ==2011\n",
    "                                                else 3 if x==2012 else 4 if x==2013 else 5)"
   ]
  },
  {
   "cell_type": "code",
   "execution_count": 61,
   "id": "93a795ef",
   "metadata": {},
   "outputs": [
    {
     "data": {
      "text/html": [
       "<div>\n",
       "<style scoped>\n",
       "    .dataframe tbody tr th:only-of-type {\n",
       "        vertical-align: middle;\n",
       "    }\n",
       "\n",
       "    .dataframe tbody tr th {\n",
       "        vertical-align: top;\n",
       "    }\n",
       "\n",
       "    .dataframe thead th {\n",
       "        text-align: right;\n",
       "    }\n",
       "</style>\n",
       "<table border=\"1\" class=\"dataframe\">\n",
       "  <thead>\n",
       "    <tr style=\"text-align: right;\">\n",
       "      <th></th>\n",
       "      <th>month_of_booking</th>\n",
       "      <th>year_of_creation</th>\n",
       "      <th>ages</th>\n",
       "      <th>gender_encoded</th>\n",
       "      <th>signup_encoded</th>\n",
       "      <th>language_encoded</th>\n",
       "      <th>affiliate_channel_encoded</th>\n",
       "      <th>first_affiliate_tracked_encoded</th>\n",
       "      <th>signup_app_encoded</th>\n",
       "      <th>first_browser_encoded</th>\n",
       "    </tr>\n",
       "  </thead>\n",
       "  <tbody>\n",
       "    <tr>\n",
       "      <th>0</th>\n",
       "      <td>0</td>\n",
       "      <td>5</td>\n",
       "      <td>2</td>\n",
       "      <td>1</td>\n",
       "      <td>1</td>\n",
       "      <td>6</td>\n",
       "      <td>1</td>\n",
       "      <td>6</td>\n",
       "      <td>1</td>\n",
       "      <td>17</td>\n",
       "    </tr>\n",
       "    <tr>\n",
       "      <th>1</th>\n",
       "      <td>0</td>\n",
       "      <td>5</td>\n",
       "      <td>1</td>\n",
       "      <td>0</td>\n",
       "      <td>0</td>\n",
       "      <td>6</td>\n",
       "      <td>1</td>\n",
       "      <td>6</td>\n",
       "      <td>1</td>\n",
       "      <td>17</td>\n",
       "    </tr>\n",
       "    <tr>\n",
       "      <th>2</th>\n",
       "      <td>0</td>\n",
       "      <td>5</td>\n",
       "      <td>1</td>\n",
       "      <td>0</td>\n",
       "      <td>0</td>\n",
       "      <td>6</td>\n",
       "      <td>1</td>\n",
       "      <td>0</td>\n",
       "      <td>2</td>\n",
       "      <td>5</td>\n",
       "    </tr>\n",
       "    <tr>\n",
       "      <th>3</th>\n",
       "      <td>0</td>\n",
       "      <td>5</td>\n",
       "      <td>1</td>\n",
       "      <td>0</td>\n",
       "      <td>0</td>\n",
       "      <td>6</td>\n",
       "      <td>1</td>\n",
       "      <td>0</td>\n",
       "      <td>2</td>\n",
       "      <td>11</td>\n",
       "    </tr>\n",
       "    <tr>\n",
       "      <th>4</th>\n",
       "      <td>0</td>\n",
       "      <td>5</td>\n",
       "      <td>1</td>\n",
       "      <td>0</td>\n",
       "      <td>0</td>\n",
       "      <td>6</td>\n",
       "      <td>1</td>\n",
       "      <td>6</td>\n",
       "      <td>2</td>\n",
       "      <td>23</td>\n",
       "    </tr>\n",
       "  </tbody>\n",
       "</table>\n",
       "</div>"
      ],
      "text/plain": [
       "   month_of_booking  year_of_creation ages  gender_encoded  signup_encoded  \\\n",
       "0                 0                 5    2               1               1   \n",
       "1                 0                 5    1               0               0   \n",
       "2                 0                 5    1               0               0   \n",
       "3                 0                 5    1               0               0   \n",
       "4                 0                 5    1               0               0   \n",
       "\n",
       "   language_encoded  affiliate_channel_encoded  \\\n",
       "0                 6                          1   \n",
       "1                 6                          1   \n",
       "2                 6                          1   \n",
       "3                 6                          1   \n",
       "4                 6                          1   \n",
       "\n",
       "   first_affiliate_tracked_encoded  signup_app_encoded  first_browser_encoded  \n",
       "0                                6                   1                     17  \n",
       "1                                6                   1                     17  \n",
       "2                                0                   2                      5  \n",
       "3                                0                   2                     11  \n",
       "4                                6                   2                     23  "
      ]
     },
     "execution_count": 61,
     "metadata": {},
     "output_type": "execute_result"
    }
   ],
   "source": [
    "#Forme du dataset test après nettoyage et encodage\n",
    "df_test.head()"
   ]
  },
  {
   "cell_type": "code",
   "execution_count": null,
   "id": "df9f9385",
   "metadata": {},
   "outputs": [],
   "source": [
    "# Test sur une ligne dans le dataset test\n",
    "ech= df_test[1:2]\n",
    "Z= model.predict(ech)\n",
    "print(Z.shape)\n",
    "print(Z)"
   ]
  },
  {
   "cell_type": "markdown",
   "id": "f747d71d",
   "metadata": {},
   "source": [
    "Le modèle prédit une réservation aux États-Unis. Pour rappel, voici l'encodage des valeurs de la\n",
    "cible 'country_destination':\n",
    "['AU', 'CA', 'DE', 'ES', 'FR', 'GB', 'IT', 'NDF', 'NL', 'PT', 'US', 'other']"
   ]
  },
  {
   "cell_type": "code",
   "execution_count": null,
   "id": "fe582c94",
   "metadata": {},
   "outputs": [],
   "source": []
  }
 ],
 "metadata": {
  "kernelspec": {
   "display_name": "Python 3 (ipykernel)",
   "language": "python",
   "name": "python3"
  },
  "language_info": {
   "codemirror_mode": {
    "name": "ipython",
    "version": 3
   },
   "file_extension": ".py",
   "mimetype": "text/x-python",
   "name": "python",
   "nbconvert_exporter": "python",
   "pygments_lexer": "ipython3",
   "version": "3.9.13"
  }
 },
 "nbformat": 4,
 "nbformat_minor": 5
}
